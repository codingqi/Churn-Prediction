{
 "cells": [
  {
   "cell_type": "code",
   "execution_count": 131,
   "metadata": {},
   "outputs": [],
   "source": [
    "#import libraries\n",
    "import pandas as pd\n",
    "import numpy as np\n",
    "from scipy import stats\n",
    "import os\n",
    "import matplotlib.pyplot as plt\n",
    "%matplotlib inline\n",
    "import seaborn as sns\n",
    "import datetime as dt\n",
    "# import the metrics class\n",
    "from sklearn import metrics\n",
    "from sklearn.model_selection import train_test_split \n",
    "from sklearn.linear_model import LinearRegression\n",
    "from sklearn.linear_model import LogisticRegression\n",
    "from sklearn import metrics\n",
    "import statsmodels.api as sm\n",
    "import warnings\n",
    "warnings.filterwarnings(\"ignore\")"
   ]
  },
  {
   "cell_type": "code",
   "execution_count": 682,
   "metadata": {
    "collapsed": true
   },
   "outputs": [],
   "source": [
    "df = pd.read_csv(\"C:/Users/peta/Desktop/Physics/final3.csv\")"
   ]
  },
  {
   "cell_type": "code",
   "execution_count": 683,
   "metadata": {},
   "outputs": [
    {
     "data": {
      "text/html": [
       "<div>\n",
       "<style>\n",
       "    .dataframe thead tr:only-child th {\n",
       "        text-align: right;\n",
       "    }\n",
       "\n",
       "    .dataframe thead th {\n",
       "        text-align: left;\n",
       "    }\n",
       "\n",
       "    .dataframe tbody tr th {\n",
       "        vertical-align: top;\n",
       "    }\n",
       "</style>\n",
       "<table border=\"1\" class=\"dataframe\">\n",
       "  <thead>\n",
       "    <tr style=\"text-align: right;\">\n",
       "      <th></th>\n",
       "      <th>teacher_id</th>\n",
       "      <th>plan</th>\n",
       "      <th>paid</th>\n",
       "      <th>state</th>\n",
       "      <th>num_student</th>\n",
       "      <th>age_days</th>\n",
       "      <th>log_first_month</th>\n",
       "      <th>log_last_month</th>\n",
       "      <th>num_device</th>\n",
       "      <th>num_browser</th>\n",
       "      <th>...</th>\n",
       "      <th>month_total_problems_1</th>\n",
       "      <th>month_total_problems_2</th>\n",
       "      <th>month_total_problems_3</th>\n",
       "      <th>month_total_problems_updated_1</th>\n",
       "      <th>month_total_problems_updated_2</th>\n",
       "      <th>month_total_problems_updated_3</th>\n",
       "      <th>t1_r_1</th>\n",
       "      <th>t1_r_2</th>\n",
       "      <th>t1_r_3</th>\n",
       "      <th>high_income_state</th>\n",
       "    </tr>\n",
       "  </thead>\n",
       "  <tbody>\n",
       "    <tr>\n",
       "      <th>0</th>\n",
       "      <td>78</td>\n",
       "      <td>1</td>\n",
       "      <td>1</td>\n",
       "      <td>Arizona</td>\n",
       "      <td>20</td>\n",
       "      <td>245.0</td>\n",
       "      <td>2019-07</td>\n",
       "      <td>2020-03</td>\n",
       "      <td>2</td>\n",
       "      <td>2</td>\n",
       "      <td>...</td>\n",
       "      <td>332.0</td>\n",
       "      <td>123.0</td>\n",
       "      <td>48.0</td>\n",
       "      <td>664.0</td>\n",
       "      <td>123.0</td>\n",
       "      <td>48.0</td>\n",
       "      <td>0.971367</td>\n",
       "      <td>1.00</td>\n",
       "      <td>1.00</td>\n",
       "      <td>0</td>\n",
       "    </tr>\n",
       "    <tr>\n",
       "      <th>1</th>\n",
       "      <td>83</td>\n",
       "      <td>0</td>\n",
       "      <td>0</td>\n",
       "      <td>Kentucky</td>\n",
       "      <td>0</td>\n",
       "      <td>0.0</td>\n",
       "      <td>2019-07</td>\n",
       "      <td>2019-07</td>\n",
       "      <td>1</td>\n",
       "      <td>1</td>\n",
       "      <td>...</td>\n",
       "      <td>178.0</td>\n",
       "      <td>0.0</td>\n",
       "      <td>0.0</td>\n",
       "      <td>356.0</td>\n",
       "      <td>0.0</td>\n",
       "      <td>0.0</td>\n",
       "      <td>1.000000</td>\n",
       "      <td>0.98</td>\n",
       "      <td>0.98</td>\n",
       "      <td>0</td>\n",
       "    </tr>\n",
       "    <tr>\n",
       "      <th>2</th>\n",
       "      <td>85</td>\n",
       "      <td>3</td>\n",
       "      <td>1</td>\n",
       "      <td>Washington</td>\n",
       "      <td>6</td>\n",
       "      <td>250.0</td>\n",
       "      <td>2019-07</td>\n",
       "      <td>2020-04</td>\n",
       "      <td>2</td>\n",
       "      <td>2</td>\n",
       "      <td>...</td>\n",
       "      <td>200.0</td>\n",
       "      <td>0.0</td>\n",
       "      <td>0.0</td>\n",
       "      <td>400.0</td>\n",
       "      <td>0.0</td>\n",
       "      <td>0.0</td>\n",
       "      <td>0.904050</td>\n",
       "      <td>0.98</td>\n",
       "      <td>0.98</td>\n",
       "      <td>1</td>\n",
       "    </tr>\n",
       "    <tr>\n",
       "      <th>3</th>\n",
       "      <td>87</td>\n",
       "      <td>0</td>\n",
       "      <td>0</td>\n",
       "      <td>South Dakota</td>\n",
       "      <td>0</td>\n",
       "      <td>40.0</td>\n",
       "      <td>2019-07</td>\n",
       "      <td>2019-09</td>\n",
       "      <td>1</td>\n",
       "      <td>2</td>\n",
       "      <td>...</td>\n",
       "      <td>197.0</td>\n",
       "      <td>0.0</td>\n",
       "      <td>0.0</td>\n",
       "      <td>394.0</td>\n",
       "      <td>0.0</td>\n",
       "      <td>0.0</td>\n",
       "      <td>1.000000</td>\n",
       "      <td>0.98</td>\n",
       "      <td>0.98</td>\n",
       "      <td>0</td>\n",
       "    </tr>\n",
       "    <tr>\n",
       "      <th>4</th>\n",
       "      <td>88</td>\n",
       "      <td>0</td>\n",
       "      <td>0</td>\n",
       "      <td>Ohio</td>\n",
       "      <td>0</td>\n",
       "      <td>0.0</td>\n",
       "      <td>2019-07</td>\n",
       "      <td>2019-07</td>\n",
       "      <td>1</td>\n",
       "      <td>1</td>\n",
       "      <td>...</td>\n",
       "      <td>178.0</td>\n",
       "      <td>0.0</td>\n",
       "      <td>0.0</td>\n",
       "      <td>356.0</td>\n",
       "      <td>0.0</td>\n",
       "      <td>0.0</td>\n",
       "      <td>1.000000</td>\n",
       "      <td>0.98</td>\n",
       "      <td>0.98</td>\n",
       "      <td>0</td>\n",
       "    </tr>\n",
       "  </tbody>\n",
       "</table>\n",
       "<p>5 rows × 39 columns</p>\n",
       "</div>"
      ],
      "text/plain": [
       "   teacher_id  plan  paid         state  num_student  age_days  \\\n",
       "0          78     1     1       Arizona           20     245.0   \n",
       "1          83     0     0      Kentucky            0       0.0   \n",
       "2          85     3     1    Washington            6     250.0   \n",
       "3          87     0     0  South Dakota            0      40.0   \n",
       "4          88     0     0          Ohio            0       0.0   \n",
       "\n",
       "  log_first_month log_last_month  num_device  num_browser        ...          \\\n",
       "0         2019-07        2020-03           2            2        ...           \n",
       "1         2019-07        2019-07           1            1        ...           \n",
       "2         2019-07        2020-04           2            2        ...           \n",
       "3         2019-07        2019-09           1            2        ...           \n",
       "4         2019-07        2019-07           1            1        ...           \n",
       "\n",
       "   month_total_problems_1  month_total_problems_2 month_total_problems_3  \\\n",
       "0                   332.0                   123.0                   48.0   \n",
       "1                   178.0                     0.0                    0.0   \n",
       "2                   200.0                     0.0                    0.0   \n",
       "3                   197.0                     0.0                    0.0   \n",
       "4                   178.0                     0.0                    0.0   \n",
       "\n",
       "  month_total_problems_updated_1  month_total_problems_updated_2  \\\n",
       "0                          664.0                           123.0   \n",
       "1                          356.0                             0.0   \n",
       "2                          400.0                             0.0   \n",
       "3                          394.0                             0.0   \n",
       "4                          356.0                             0.0   \n",
       "\n",
       "   month_total_problems_updated_3    t1_r_1  t1_r_2  t1_r_3  high_income_state  \n",
       "0                            48.0  0.971367    1.00    1.00                  0  \n",
       "1                             0.0  1.000000    0.98    0.98                  0  \n",
       "2                             0.0  0.904050    0.98    0.98                  1  \n",
       "3                             0.0  1.000000    0.98    0.98                  0  \n",
       "4                             0.0  1.000000    0.98    0.98                  0  \n",
       "\n",
       "[5 rows x 39 columns]"
      ]
     },
     "execution_count": 683,
     "metadata": {},
     "output_type": "execute_result"
    }
   ],
   "source": [
    "df.head()"
   ]
  },
  {
   "cell_type": "markdown",
   "metadata": {},
   "source": [
    "# 1. Eploratory Data Analysis "
   ]
  },
  {
   "cell_type": "markdown",
   "metadata": {},
   "source": [
    "## 1.1. Define churn and narrow down to a specific cohort for the analysis "
   ]
  },
  {
   "cell_type": "code",
   "execution_count": 823,
   "metadata": {
    "collapsed": true
   },
   "outputs": [],
   "source": [
    "df1 = pd.read_csv(\"C:/Users/peta/Desktop/Physics/final3.csv\")\n",
    "\n",
    "# define churn age_days<=30 \n",
    "df1.loc[df1['age_days']<=30, 'churn'] = 1\n",
    "df1.loc[df1['age_days']>30, 'churn'] = 0\n",
    "\n",
    "# focus the research to fall 2019 cohort\n",
    "df = df1.loc[df1['log_first_month']< '2020-01']\n"
   ]
  },
  {
   "cell_type": "code",
   "execution_count": 824,
   "metadata": {},
   "outputs": [
    {
     "name": "stdout",
     "output_type": "stream",
     "text": [
      "First Day Churn Rate:  0.6733601070950469\n",
      "First 30 Days Churn Rate:  0.7282463186077643\n",
      "First 60 Days Churn Rate:  0.7523427041499331\n",
      "First 90 Days Churn Rate:  0.7630522088353414\n"
     ]
    }
   ],
   "source": [
    "# churn rate\n",
    "churn_1_day_rate = (df.loc[df['age_days']==0]['teacher_id'].nunique())/df['teacher_id'].nunique()\n",
    "churn_30_day_rate = (df.loc[df['age_days']<=30]['teacher_id'].nunique())/df['teacher_id'].nunique()\n",
    "churn_60_day_rate = (df.loc[df['age_days']<=60]['teacher_id'].nunique())/df['teacher_id'].nunique()\n",
    "churn_90_day_rate = (df.loc[df['age_days']<=90]['teacher_id'].nunique())/df['teacher_id'].nunique()\n",
    "print ('First Day Churn Rate: ', churn_1_day_rate)\n",
    "print ('First 30 Days Churn Rate: ', churn_30_day_rate)\n",
    "print ('First 60 Days Churn Rate: ', churn_60_day_rate)\n",
    "print ('First 90 Days Churn Rate: ', churn_90_day_rate)"
   ]
  },
  {
   "cell_type": "code",
   "execution_count": 825,
   "metadata": {},
   "outputs": [],
   "source": [
    "df['score_improve_1'].describe()\n",
    "# fill missing value for score_improve_1\n",
    "df['score_improve_1'] = df['score_improve_1'].fillna(1)"
   ]
  },
  {
   "cell_type": "markdown",
   "metadata": {},
   "source": [
    "## 1.2. Visulization\n",
    "### Prepare features"
   ]
  },
  {
   "cell_type": "code",
   "execution_count": 826,
   "metadata": {
    "collapsed": true
   },
   "outputs": [],
   "source": [
    "# rename the features to make them self-exploratory\n",
    "df = df.rename(columns ={\n",
    "        'month_total_problems_updated_1': 'num_problem_student',\n",
    "        'total_practice_month_udpated_teacher_1': 'num_problem_teacher',\n",
    "        'month_log_days_1':'log_days_monthly',  \n",
    "        'month_log_times_day_1':'log_freq_daily',\n",
    "        'score_improve_1':'improvement',\n",
    "        't1_r_1':'ratio_work_session' \n",
    "})\n",
    "\n",
    "# as I will predict 30 days churn, I will only use those features for the first 30 days\n",
    "features = ['plan', \n",
    "            'high_income_state',\n",
    "            'paid_verified',\n",
    "            'log_first_month',\n",
    "            'num_student', \n",
    "            'num_device', \n",
    "            'num_browser',\n",
    "            'num_problem_teacher',\n",
    "            'num_problem_student',\n",
    "            'log_days_monthly', \n",
    "            'log_freq_daily',\n",
    "            'improvement',\n",
    "            'ratio_work_session' ]\n",
    "# I combine features into two lists so that we can analyze them jointly\n",
    "categorical_features = ['plan', \n",
    "            'high_income_state',\n",
    "            'paid_verified',\n",
    "            'log_first_month' ]\n",
    "numerical_features = ['num_student', \n",
    "            'num_device', \n",
    "            'num_browser',\n",
    "            'num_problem_teacher',\n",
    "            'num_problem_student',\n",
    "            'log_days_monthly', \n",
    "            'log_freq_daily',\n",
    "            'improvement',\n",
    "            'ratio_work_session']\n",
    "target = 'churn'"
   ]
  },
  {
   "cell_type": "markdown",
   "metadata": {},
   "source": [
    "### Check numeric data distribution\n",
    "First, let's start with numeric summarizing to generate a basic idea about the dataset."
   ]
  },
  {
   "cell_type": "code",
   "execution_count": 827,
   "metadata": {},
   "outputs": [
    {
     "data": {
      "text/html": [
       "<div>\n",
       "<style>\n",
       "    .dataframe thead tr:only-child th {\n",
       "        text-align: right;\n",
       "    }\n",
       "\n",
       "    .dataframe thead th {\n",
       "        text-align: left;\n",
       "    }\n",
       "\n",
       "    .dataframe tbody tr th {\n",
       "        vertical-align: top;\n",
       "    }\n",
       "</style>\n",
       "<table border=\"1\" class=\"dataframe\">\n",
       "  <thead>\n",
       "    <tr style=\"text-align: right;\">\n",
       "      <th></th>\n",
       "      <th>num_student</th>\n",
       "      <th>num_device</th>\n",
       "      <th>num_browser</th>\n",
       "      <th>num_problem_teacher</th>\n",
       "      <th>num_problem_student</th>\n",
       "      <th>log_days_monthly</th>\n",
       "      <th>log_freq_daily</th>\n",
       "      <th>improvement</th>\n",
       "      <th>ratio_work_session</th>\n",
       "    </tr>\n",
       "  </thead>\n",
       "  <tbody>\n",
       "    <tr>\n",
       "      <th>count</th>\n",
       "      <td>747.000000</td>\n",
       "      <td>747.000000</td>\n",
       "      <td>747.000000</td>\n",
       "      <td>747.000000</td>\n",
       "      <td>747.000000</td>\n",
       "      <td>747.000000</td>\n",
       "      <td>747.000000</td>\n",
       "      <td>747.000000</td>\n",
       "      <td>747.000000</td>\n",
       "    </tr>\n",
       "    <tr>\n",
       "      <th>mean</th>\n",
       "      <td>9.819277</td>\n",
       "      <td>1.107095</td>\n",
       "      <td>1.109772</td>\n",
       "      <td>12.617387</td>\n",
       "      <td>110.331995</td>\n",
       "      <td>2.370817</td>\n",
       "      <td>1.327822</td>\n",
       "      <td>1.003943</td>\n",
       "      <td>0.980376</td>\n",
       "    </tr>\n",
       "    <tr>\n",
       "      <th>std</th>\n",
       "      <td>28.679205</td>\n",
       "      <td>0.309441</td>\n",
       "      <td>0.360590</td>\n",
       "      <td>55.527163</td>\n",
       "      <td>155.514056</td>\n",
       "      <td>3.281402</td>\n",
       "      <td>0.739592</td>\n",
       "      <td>0.052365</td>\n",
       "      <td>0.073786</td>\n",
       "    </tr>\n",
       "    <tr>\n",
       "      <th>min</th>\n",
       "      <td>0.000000</td>\n",
       "      <td>1.000000</td>\n",
       "      <td>1.000000</td>\n",
       "      <td>0.000000</td>\n",
       "      <td>0.000000</td>\n",
       "      <td>1.000000</td>\n",
       "      <td>1.000000</td>\n",
       "      <td>0.091304</td>\n",
       "      <td>0.000000</td>\n",
       "    </tr>\n",
       "    <tr>\n",
       "      <th>25%</th>\n",
       "      <td>0.000000</td>\n",
       "      <td>1.000000</td>\n",
       "      <td>1.000000</td>\n",
       "      <td>0.000000</td>\n",
       "      <td>0.000000</td>\n",
       "      <td>1.000000</td>\n",
       "      <td>1.000000</td>\n",
       "      <td>1.000000</td>\n",
       "      <td>0.980000</td>\n",
       "    </tr>\n",
       "    <tr>\n",
       "      <th>50%</th>\n",
       "      <td>0.000000</td>\n",
       "      <td>1.000000</td>\n",
       "      <td>1.000000</td>\n",
       "      <td>0.000000</td>\n",
       "      <td>42.000000</td>\n",
       "      <td>1.000000</td>\n",
       "      <td>1.000000</td>\n",
       "      <td>1.000000</td>\n",
       "      <td>1.000000</td>\n",
       "    </tr>\n",
       "    <tr>\n",
       "      <th>75%</th>\n",
       "      <td>0.500000</td>\n",
       "      <td>1.000000</td>\n",
       "      <td>1.000000</td>\n",
       "      <td>0.000000</td>\n",
       "      <td>125.000000</td>\n",
       "      <td>1.833333</td>\n",
       "      <td>1.222222</td>\n",
       "      <td>1.000000</td>\n",
       "      <td>1.000000</td>\n",
       "    </tr>\n",
       "    <tr>\n",
       "      <th>max</th>\n",
       "      <td>276.000000</td>\n",
       "      <td>2.000000</td>\n",
       "      <td>4.000000</td>\n",
       "      <td>753.647059</td>\n",
       "      <td>998.000000</td>\n",
       "      <td>30.000000</td>\n",
       "      <td>8.000000</td>\n",
       "      <td>1.567954</td>\n",
       "      <td>1.000000</td>\n",
       "    </tr>\n",
       "  </tbody>\n",
       "</table>\n",
       "</div>"
      ],
      "text/plain": [
       "       num_student  num_device  num_browser  num_problem_teacher  \\\n",
       "count   747.000000  747.000000   747.000000           747.000000   \n",
       "mean      9.819277    1.107095     1.109772            12.617387   \n",
       "std      28.679205    0.309441     0.360590            55.527163   \n",
       "min       0.000000    1.000000     1.000000             0.000000   \n",
       "25%       0.000000    1.000000     1.000000             0.000000   \n",
       "50%       0.000000    1.000000     1.000000             0.000000   \n",
       "75%       0.500000    1.000000     1.000000             0.000000   \n",
       "max     276.000000    2.000000     4.000000           753.647059   \n",
       "\n",
       "       num_problem_student  log_days_monthly  log_freq_daily  improvement  \\\n",
       "count           747.000000        747.000000      747.000000   747.000000   \n",
       "mean            110.331995          2.370817        1.327822     1.003943   \n",
       "std             155.514056          3.281402        0.739592     0.052365   \n",
       "min               0.000000          1.000000        1.000000     0.091304   \n",
       "25%               0.000000          1.000000        1.000000     1.000000   \n",
       "50%              42.000000          1.000000        1.000000     1.000000   \n",
       "75%             125.000000          1.833333        1.222222     1.000000   \n",
       "max             998.000000         30.000000        8.000000     1.567954   \n",
       "\n",
       "       ratio_work_session  \n",
       "count          747.000000  \n",
       "mean             0.980376  \n",
       "std              0.073786  \n",
       "min              0.000000  \n",
       "25%              0.980000  \n",
       "50%              1.000000  \n",
       "75%              1.000000  \n",
       "max              1.000000  "
      ]
     },
     "execution_count": 827,
     "metadata": {},
     "output_type": "execute_result"
    }
   ],
   "source": [
    "df[numerical_features].describe()"
   ]
  },
  {
   "cell_type": "markdown",
   "metadata": {},
   "source": [
    "### Outlier imputation\n"
   ]
  },
  {
   "cell_type": "code",
   "execution_count": 828,
   "metadata": {
    "collapsed": true
   },
   "outputs": [],
   "source": [
    "# score improve < 0.7 is likely to be outlier, replacd with na\n",
    "df.loc[df['improvement']<0.7, 'improvement'] = 0.7\n",
    "# t1_r_1 <0.7 is likely to be outlier, replace with na\n",
    "df.loc[df['ratio_work_session']<0.7, 'ratio_work_session'] = 0.7"
   ]
  },
  {
   "cell_type": "markdown",
   "metadata": {},
   "source": [
    "### check the distribution by group"
   ]
  },
  {
   "cell_type": "code",
   "execution_count": 829,
   "metadata": {},
   "outputs": [
    {
     "data": {
      "text/plain": [
       "<matplotlib.legend.Legend at 0x1e83eaebc18>"
      ]
     },
     "execution_count": 829,
     "metadata": {},
     "output_type": "execute_result"
    },
    {
     "data": {
      "image/png": "[encoded data removed]",
      "text/plain": [
       "<matplotlib.figure.Figure at 0x1e840f586a0>"
      ]
     },
     "metadata": {},
     "output_type": "display_data"
    }
   ],
   "source": [
    "fig, ax = plt.subplots(3, 3, figsize=(15, 10))\n",
    "df[df.churn == 1][numerical_features].hist(bins=30, color=\"blue\", alpha=0.5, ax=ax)\n",
    "df[df.churn == 0][numerical_features].hist(bins=30, color=\"red\", alpha=0.5, ax=ax)\n",
    "plt.legend(['churn', 'not churn'])"
   ]
  },
  {
   "cell_type": "markdown",
   "metadata": {},
   "source": [
    "### Update features after checking the distribution by replacing outliers"
   ]
  },
  {
   "cell_type": "code",
   "execution_count": 830,
   "metadata": {},
   "outputs": [],
   "source": [
    "# log_freq_daily is converted to suffer login problem\n",
    "df.loc[df['log_freq_daily']> 3, 'login_problem'] = 1 \n",
    "df.loc[df['log_freq_daily']<=3, 'login_problem'] = 0\n",
    "# num of students is  converted to categorical variables: 0, 1-50, 50+\n",
    "df.loc[df['num_student']==0, 'class_size'] = 'No_Student'\n",
    "df.loc[(df['num_student']>0) & (df['num_student']<=30), 'class_size'] = 'Regular'\n",
    "df.loc[df['num_student']>30, 'class_size'] = 'Large'\n"
   ]
  },
  {
   "cell_type": "markdown",
   "metadata": {},
   "source": [
    "* Update features"
   ]
  },
  {
   "cell_type": "code",
   "execution_count": 831,
   "metadata": {
    "collapsed": true
   },
   "outputs": [],
   "source": [
    "# as I will predict 30 days churn, I will only use those features for the first 30 days\n",
    "# I combine features into two lists so that we can analyze them jointly\n",
    "# as I will predict 30 days churn, I will only use those features for the first 30 days\n",
    "features = ['plan', \n",
    "            'high_income_state',\n",
    "            'paid_verified',\n",
    "            'log_first_month',\n",
    "            'login_problem',\n",
    "            'class_size'\n",
    "            'num_student', \n",
    "            'num_device', \n",
    "            'num_browser',\n",
    "            'num_problem_teacher',\n",
    "            'num_problem_student',\n",
    "            'log_days_monthly', \n",
    "            'log_freq_daily',\n",
    "            'improvement',\n",
    "            'ratio_work_session' ]\n",
    "# I combine features into two lists so that we can analyze them jointly\n",
    "categorical_features = ['plan', \n",
    "            'high_income_state',\n",
    "            'paid_verified',\n",
    "            'log_first_month',\n",
    "            'login_problem',\n",
    "            'class_size']\n",
    "numerical_features = ['num_student', \n",
    "            'num_device', \n",
    "            'num_browser',\n",
    "            'num_problem_teacher',\n",
    "            'num_problem_student',\n",
    "            'log_days_monthly', \n",
    "            'log_freq_daily',\n",
    "            'improvement',\n",
    "            'ratio_work_session']\n",
    "target = 'churn'"
   ]
  },
  {
   "cell_type": "markdown",
   "metadata": {},
   "source": [
    "### Numerical features distribution by Group\n",
    "\n",
    "***\n",
    "The distributions of numerical features show that there are difference patterns for churn and retained users \n",
    "***"
   ]
  },
  {
   "cell_type": "code",
   "execution_count": 832,
   "metadata": {},
   "outputs": [
    {
     "data": {
      "text/plain": [
       "array([<matplotlib.axes._subplots.AxesSubplot object at 0x000001E840EC4B70>,\n",
       "       <matplotlib.axes._subplots.AxesSubplot object at 0x000001E8425EC240>,\n",
       "       <matplotlib.axes._subplots.AxesSubplot object at 0x000001E842B0EF60>,\n",
       "       <matplotlib.axes._subplots.AxesSubplot object at 0x000001E84266B4E0>,\n",
       "       <matplotlib.axes._subplots.AxesSubplot object at 0x000001E842695B38>,\n",
       "       <matplotlib.axes._subplots.AxesSubplot object at 0x000001E8426C5A90>,\n",
       "       <matplotlib.axes._subplots.AxesSubplot object at 0x000001E8427051D0>,\n",
       "       <matplotlib.axes._subplots.AxesSubplot object at 0x000001E842722358>,\n",
       "       <matplotlib.axes._subplots.AxesSubplot object at 0x000001E842771BE0>], dtype=object)"
      ]
     },
     "execution_count": 832,
     "metadata": {},
     "output_type": "execute_result"
    },
    {
     "data": {
      "image/png": "[encoded data removed]",
      "text/plain": [
       "<matplotlib.figure.Figure at 0x1e842ae3048>"
      ]
     },
     "metadata": {},
     "output_type": "display_data"
    }
   ],
   "source": [
    "fig, ax = plt.subplots(3, 3, figsize=(15, 10))\n",
    "df[df.churn == 1][numerical_features].hist(bins=30, color=\"blue\", alpha=0.5, ax=ax)\n",
    "df[df.churn == 0][numerical_features].hist(bins=30, color=\"red\", alpha=0.5, ax=ax)\n"
   ]
  },
  {
   "cell_type": "markdown",
   "metadata": {},
   "source": [
    "### Categorical feature distribution\n",
    "To analyze categorical features, I use bar charts. "
   ]
  },
  {
   "cell_type": "code",
   "execution_count": 833,
   "metadata": {},
   "outputs": [
    {
     "data": {
      "image/png": "[encoded data removed]",
      "text/plain": [
       "<matplotlib.figure.Figure at 0x1e842e0fe80>"
      ]
     },
     "metadata": {},
     "output_type": "display_data"
    }
   ],
   "source": [
    "ROWS, COLS = 2, 3\n",
    "fig, ax = plt.subplots(ROWS, COLS, figsize=(14, 9))\n",
    "row, col = 0, 0\n",
    "for i, categorical_feature in enumerate(categorical_features):\n",
    "    if col == COLS - 1:\n",
    "        row += 1\n",
    "    col = i % COLS\n",
    "    df[df.churn == 1][categorical_feature].value_counts().plot('bar', ax=ax[row, col], color=\"blue\", alpha=0.5, fontsize = 10).\\\n",
    "    set_title(categorical_feature, fontsize = 12)\n",
    "    df[df.churn == 0][categorical_feature].value_counts().plot('bar', ax=ax[row, col], color=\"red\", alpha=0.5, fontsize = 10).\\\n",
    "    set_title(categorical_feature, fontsize = 12)\n"
   ]
  },
  {
   "cell_type": "markdown",
   "metadata": {},
   "source": [
    "### Target variable pie chart\n",
    "Churn probability "
   ]
  },
  {
   "cell_type": "code",
   "execution_count": 834,
   "metadata": {},
   "outputs": [
    {
     "data": {
      "text/plain": [
       "(-1.1186136069320769,\n",
       " 1.1115037906132557,\n",
       " -1.114632274166433,\n",
       " 1.1006967749603063)"
      ]
     },
     "execution_count": 834,
     "metadata": {},
     "output_type": "execute_result"
    },
    {
     "data": {
      "image/png": "[encoded data removed]",
      "text/plain": [
       "<matplotlib.figure.Figure at 0x1e842e075c0>"
      ]
     },
     "metadata": {},
     "output_type": "display_data"
    }
   ],
   "source": [
    "\n",
    "# Pie chart, where the slices will be ordered and plotted counter-clockwise:\n",
    "labels = 'Churn', 'Not Churn'\n",
    "colors = ['blue', 'red']\n",
    "\n",
    "fig1, ax1 = plt.subplots()\n",
    "ax1.pie(df[target].value_counts(),  labels=labels, colors =colors ,  autopct='%1.1f%%',wedgeprops={'alpha':0.5},\n",
    "        shadow=True, startangle=90)\n",
    "ax1.axis('equal')  # Equal aspect ratio ensures that pie is drawn as a circle."
   ]
  },
  {
   "cell_type": "code",
   "execution_count": 835,
   "metadata": {},
   "outputs": [
    {
     "data": {
      "text/plain": [
       "Text(0.5,1,'Days Bettwen Teachers First and Last Login')"
      ]
     },
     "execution_count": 835,
     "metadata": {},
     "output_type": "execute_result"
    },
    {
     "data": {
      "image/png": "[encoded data removed]",
      "text/plain": [
       "<matplotlib.figure.Figure at 0x1e84323d470>"
      ]
     },
     "metadata": {},
     "output_type": "display_data"
    }
   ],
   "source": [
    "plt.hist(df.loc[df['age_days']<=150, 'age_days'], bins = 10, alpha = 0.7,  color = 'turquoise', log = True)\n",
    "plt.grid(False)\n",
    "plt.xticks(rotation=45)\n",
    "plt.xlabel('Days')\n",
    "plt.ylabel('# of Users')\n",
    "plt.title('Days Bettwen Teachers First and Last Login', fontsize=16)\n",
    "#sns.distplot(df['age_days'], kde = False)"
   ]
  },
  {
   "cell_type": "code",
   "execution_count": 836,
   "metadata": {},
   "outputs": [
    {
     "data": {
      "text/plain": [
       "Text(0.5,1,'Days Bettwen Teachers First and Last Login')"
      ]
     },
     "execution_count": 836,
     "metadata": {},
     "output_type": "execute_result"
    },
    {
     "data": {
      "image/png": "[encoded data removed]",
      "text/plain": [
       "<matplotlib.figure.Figure at 0x1e84326a748>"
      ]
     },
     "metadata": {},
     "output_type": "display_data"
    }
   ],
   "source": [
    "plt.hist(df[ 'age_days'], bins = 20, alpha = 0.7,  color = 'turquoise', log = True)\n",
    "plt.grid(False)\n",
    "plt.xticks(rotation=45)\n",
    "plt.xlabel('Days')\n",
    "plt.ylabel('# of Users')\n",
    "plt.title('Days Bettwen Teachers First and Last Login', fontsize=16)\n",
    "\n",
    "#sns.distplot(df['age_days'], kde = False)"
   ]
  },
  {
   "cell_type": "code",
   "execution_count": 837,
   "metadata": {},
   "outputs": [
    {
     "data": {
      "text/plain": [
       "<matplotlib.axes._subplots.AxesSubplot at 0x1e843836f98>"
      ]
     },
     "execution_count": 837,
     "metadata": {},
     "output_type": "execute_result"
    },
    {
     "data": {
      "image/png": "[encoded data removed]",
      "text/plain": [
       "<matplotlib.figure.Figure at 0x1e843831c88>"
      ]
     },
     "metadata": {},
     "output_type": "display_data"
    }
   ],
   "source": [
    "sns.distplot(df.loc[df['age_days']<=200, 'age_days'])"
   ]
  },
  {
   "cell_type": "code",
   "execution_count": 838,
   "metadata": {},
   "outputs": [
    {
     "data": {
      "text/plain": [
       "Text(0.5,1,'Users Registration by Month')"
      ]
     },
     "execution_count": 838,
     "metadata": {},
     "output_type": "execute_result"
    },
    {
     "data": {
      "image/png": "[encoded data removed]",
      "text/plain": [
       "<matplotlib.figure.Figure at 0x1e843840c18>"
      ]
     },
     "metadata": {},
     "output_type": "display_data"
    }
   ],
   "source": [
    "plt.hist(df1['log_first_month'], bins = 10, alpha = 0.7,  color = 'turquoise')\n",
    "plt.grid(b=None)\n",
    "plt.xticks(rotation=45)\n",
    "plt.xlabel('Year-Month')\n",
    "plt.ylabel('# of Users')\n",
    "plt.title('Users Registration by Month', fontsize=16)\n",
    "#sns.distplot(df['age_days'], kde = False)"
   ]
  },
  {
   "cell_type": "markdown",
   "metadata": {},
   "source": [
    "###  Generate categorical features"
   ]
  },
  {
   "cell_type": "code",
   "execution_count": 839,
   "metadata": {
    "collapsed": true
   },
   "outputs": [],
   "source": [
    "#  Decode categorical features\n",
    "df = pd.get_dummies(df, columns = ['log_first_month', \n",
    "                                   'plan',\n",
    "                                   'class_size'])\n"
   ]
  },
  {
   "cell_type": "code",
   "execution_count": 840,
   "metadata": {
    "collapsed": true
   },
   "outputs": [],
   "source": [
    "# update features\n",
    "categorical_features = [\n",
    "            'high_income_state',\n",
    "            'paid_verified',\n",
    "            'login_problem',#'log_freq_daily'\n",
    "            'plan_0', 'plan_1', 'plan_2', 'plan_3', 'plan_4', 'plan_6',\n",
    "             'log_first_month_2019-07', 'log_first_month_2019-08',\n",
    "            'log_first_month_2019-09', 'log_first_month_2019-10',\n",
    "            'log_first_month_2019-11', 'log_first_month_2019-12', \n",
    "            'class_size_Large', 'class_size_No_Student','class_size_Regular' # 'num_student'\n",
    "            ]\n",
    "numerical_features = ['num_student', \n",
    "            'num_device', \n",
    "            'num_browser',\n",
    "            'num_problem_teacher',\n",
    "            'num_problem_student',\n",
    "            'log_days_monthly', \n",
    "            'log_freq_daily',\n",
    "            'improvement',\n",
    "            'ratio_work_session']\n",
    "\n",
    "target = 'churn'\n",
    "features = [\n",
    "            'high_income_state',\n",
    "            'paid_verified',\n",
    "            'login_problem',#'log_freq_daily'\n",
    "            'plan_0', 'plan_1', 'plan_2', 'plan_3', 'plan_4', 'plan_6',\n",
    "             'log_first_month_2019-07', 'log_first_month_2019-08',\n",
    "            'log_first_month_2019-09', 'log_first_month_2019-10',\n",
    "            'log_first_month_2019-11', 'log_first_month_2019-12', \n",
    "            'class_size_Large', 'class_size_No_Student','class_size_Regular', # 'num_student'\n",
    "            'num_student', \n",
    "            'num_device', \n",
    "            'num_browser',\n",
    "            'num_problem_teacher',\n",
    "            'num_problem_student',\n",
    "            'log_days_monthly', \n",
    "            'log_freq_daily',\n",
    "            'improvement',\n",
    "            'ratio_work_session']"
   ]
  },
  {
   "cell_type": "markdown",
   "metadata": {},
   "source": [
    "### Correlation check"
   ]
  },
  {
   "cell_type": "code",
   "execution_count": 841,
   "metadata": {
    "collapsed": true
   },
   "outputs": [],
   "source": [
    "num = df[numerical_features].corr()\n",
    "cat = df[categorical_features].corr()"
   ]
  },
  {
   "cell_type": "code",
   "execution_count": 842,
   "metadata": {},
   "outputs": [
    {
     "data": {
      "text/plain": [
       "<matplotlib.axes._subplots.AxesSubplot at 0x1e843283d68>"
      ]
     },
     "execution_count": 842,
     "metadata": {},
     "output_type": "execute_result"
    },
    {
     "data": {
      "image/png": "[encoded data removed]",
      "text/plain": [
       "<matplotlib.figure.Figure at 0x1e84104dbe0>"
      ]
     },
     "metadata": {},
     "output_type": "display_data"
    }
   ],
   "source": [
    "sns.heatmap(num)"
   ]
  },
  {
   "cell_type": "code",
   "execution_count": 843,
   "metadata": {},
   "outputs": [
    {
     "data": {
      "text/plain": [
       "<matplotlib.axes._subplots.AxesSubplot at 0x1e843be9e10>"
      ]
     },
     "execution_count": 843,
     "metadata": {},
     "output_type": "execute_result"
    },
    {
     "data": {
      "image/png": "[encoded data removed]",
      "text/plain": [
       "<matplotlib.figure.Figure at 0x1e843c1b748>"
      ]
     },
     "metadata": {},
     "output_type": "display_data"
    }
   ],
   "source": [
    "sns.heatmap(cat)"
   ]
  },
  {
   "cell_type": "markdown",
   "metadata": {},
   "source": [
    "# 3. Modeling\n"
   ]
  },
  {
   "cell_type": "markdown",
   "metadata": {},
   "source": [
    "# get model run!\n",
    "\n",
    "\n",
    "Target variable distribution shows that we are dealing with an imbalanced problem as there are many more churned users. The model would achieve high accuracy as it would mostly predict majority class — users who did churn in my example.\n",
    "Few things I can do to minimize the influence of imbalanced dataset:\n",
    "- resample data (imbalanced-learn),\n",
    "- collect more samples,\n",
    "- use precision and recall as accuracy metrics.\n"
   ]
  },
  {
   "cell_type": "code",
   "execution_count": 844,
   "metadata": {
    "collapsed": true
   },
   "outputs": [],
   "source": [
    "dataframe = df"
   ]
  },
  {
   "cell_type": "markdown",
   "metadata": {},
   "source": [
    "### Rescale features"
   ]
  },
  {
   "cell_type": "code",
   "execution_count": 845,
   "metadata": {
    "collapsed": true
   },
   "outputs": [],
   "source": [
    "from sklearn import preprocessing\n",
    "\n",
    "x = features\n",
    "y = target\n",
    "# rescale\n",
    "df[x] = preprocessing.scale(df[x])\n"
   ]
  },
  {
   "cell_type": "markdown",
   "metadata": {},
   "source": [
    "### Downsampling "
   ]
  },
  {
   "cell_type": "code",
   "execution_count": 846,
   "metadata": {},
   "outputs": [
    {
     "data": {
      "text/plain": [
       "0.0    203\n",
       "1.0    203\n",
       "Name: churn, dtype: int64"
      ]
     },
     "execution_count": 846,
     "metadata": {},
     "output_type": "execute_result"
    }
   ],
   "source": [
    "\n",
    "from sklearn.utils import resample\n",
    "# Separate majority and minotiry classes\n",
    "df_majority = df[df.churn == 1]\n",
    "df_minority = df[df.churn == 0]\n",
    "\n",
    "# Downsample majority class\n",
    "df_majority_downsampled = resample(df_majority, \n",
    "                                 replace=False,    # sample without replacement\n",
    "                                 n_samples=203,     # to match minority class\n",
    "                                 random_state=123) # reproducible results\n",
    "\n",
    "# Combine minority class with downsampled majority class\n",
    "df_downsampled = pd.concat([df_majority_downsampled, df_minority])\n",
    "df_downsampled.churn.value_counts()"
   ]
  },
  {
   "cell_type": "markdown",
   "metadata": {},
   "source": [
    "### Features selection with domain knowlege, correlation check, and L1. "
   ]
  },
  {
   "cell_type": "code",
   "execution_count": 854,
   "metadata": {
    "collapsed": true
   },
   "outputs": [],
   "source": [
    "# update the features after feature selection with domain knowlege, correlation check, and L1. \n",
    "\n",
    "features = [\n",
    "            'high_income_state',\n",
    "            'paid_verified',\n",
    "             'log_first_month_2019-07', 'log_first_month_2019-08',\n",
    "            'log_first_month_2019-09', 'log_first_month_2019-10',\n",
    "            'log_first_month_2019-11', \n",
    "            'num_student', \n",
    "            'num_device', \n",
    "            'num_problem_teacher',\n",
    "            'num_problem_student',\n",
    "            'log_days_monthly', \n",
    "            'log_freq_daily',\n",
    "            'improvement',\n",
    "            'ratio_work_session']"
   ]
  },
  {
   "cell_type": "code",
   "execution_count": 855,
   "metadata": {},
   "outputs": [],
   "source": [
    "# split sample\n",
    "x = features\n",
    "y = target\n",
    "X_train,X_test,y_train,y_test=train_test_split(df_downsampled[x],df_downsampled[y],test_size=0.25,random_state=2)"
   ]
  },
  {
   "cell_type": "markdown",
   "metadata": {},
   "source": [
    "### Fit Logistic Regression"
   ]
  },
  {
   "cell_type": "code",
   "execution_count": 856,
   "metadata": {},
   "outputs": [
    {
     "name": "stdout",
     "output_type": "stream",
     "text": [
      "Accuracy of logistic regression classifier on test set: 0.83\n"
     ]
    }
   ],
   "source": [
    "# Fit logistic regression\n",
    "#logreg = LogisticRegression()\n",
    "logreg = LogisticRegression(penalty='l1', C = 10, solver='liblinear')\n",
    "# fit the model with data\n",
    "logreg.fit(X_train, y_train)\n",
    "y_pred=logreg.predict(X_test)\n"
   ]
  },
  {
   "cell_type": "markdown",
   "metadata": {},
   "source": [
    "### Feature Selection with L1\n",
    "\n"
   ]
  },
  {
   "cell_type": "code",
   "execution_count": 857,
   "metadata": {},
   "outputs": [
    {
     "data": {
      "text/plain": [
       "array([False,  True,  True,  True, False,  True,  True,  True,  True,\n",
       "        True,  True,  True, False, False,  True], dtype=bool)"
      ]
     },
     "execution_count": 857,
     "metadata": {},
     "output_type": "execute_result"
    }
   ],
   "source": [
    "from sklearn.feature_selection import SelectFromModel\n",
    "# L1 Selected features\n",
    "selector = SelectFromModel(estimator=LogisticRegression(penalty='l1', C = 0.5, solver='liblinear')).fit(X_train, y_train)\n",
    "selector.get_support()"
   ]
  },
  {
   "cell_type": "code",
   "execution_count": 858,
   "metadata": {
    "collapsed": true
   },
   "outputs": [],
   "source": [
    "from sklearn.metrics import confusion_matrix\n",
    "def plot_confusion_matrix(y_true, y_pred):\n",
    "    \"\"\"\n",
    "    This function prints and plots the normalized confusion matrix.\n",
    "    \"\"\"\n",
    "\n",
    "    # Compute confusion matrix\n",
    "    cm = confusion_matrix(y_true, y_pred)\n",
    "    print ('Confustion Matrix without Normalization')\n",
    "    print (cm)\n",
    "    # Normalize confustion matrix\n",
    "    cm = cm.astype('float') / cm.sum(axis=1)[:, np.newaxis]\n",
    "\n",
    "    # plot the confusion matrix \n",
    "    fig, ax = plt.subplots()\n",
    "    ax.grid(False)\n",
    "    im = ax.imshow(cm, interpolation='nearest',  cmap=\"YlGnBu\" )\n",
    "    ax.figure.colorbar(im, ax=ax)\n",
    "    # show all ticks...\n",
    "    ax.set(xticks=np.arange(cm.shape[1]),\n",
    "           yticks=np.arange(cm.shape[0]),\n",
    "           # ... and label them with the respective list entries\n",
    "           #xticklabels=classes, yticklabels=classes,\n",
    "           title='Normalized confusion matrix',\n",
    "           ylabel='True label',\n",
    "           xlabel='Predicted label')\n",
    "\n",
    "    # Loop over data dimensions and create text annotations.\n",
    "    fmt = '.2f' \n",
    "    thresh = cm.max() / 2.\n",
    "    for i in range(cm.shape[0]):\n",
    "        for j in range(cm.shape[1]):\n",
    "            ax.text(j, i, format(cm[i, j], fmt),\n",
    "                    ha=\"center\", va=\"center\",\n",
    "                    color=\"white\" if cm[i, j] > thresh else \"black\")\n",
    "    fig.tight_layout()\n",
    "    return ax"
   ]
  },
  {
   "cell_type": "code",
   "execution_count": 859,
   "metadata": {
    "scrolled": true
   },
   "outputs": [
    {
     "name": "stdout",
     "output_type": "stream",
     "text": [
      "Confustion Matrix without Normalization\n",
      "[[40 14]\n",
      " [ 3 45]]\n"
     ]
    },
    {
     "data": {
      "text/plain": [
       "<matplotlib.axes._subplots.AxesSubplot at 0x1e843de15c0>"
      ]
     },
     "execution_count": 859,
     "metadata": {},
     "output_type": "execute_result"
    },
    {
     "data": {
      "image/png": "[encoded data removed]",
      "text/plain": [
       "<matplotlib.figure.Figure at 0x1e843dc9ef0>"
      ]
     },
     "metadata": {},
     "output_type": "display_data"
    }
   ],
   "source": [
    "plot_confusion_matrix(y_test, y_pred)"
   ]
  },
  {
   "cell_type": "code",
   "execution_count": 860,
   "metadata": {},
   "outputs": [
    {
     "name": "stdout",
     "output_type": "stream",
     "text": [
      "Optimization terminated successfully.\n",
      "         Current function value: 0.349611\n",
      "         Iterations 9\n",
      "                           Logit Regression Results                           \n",
      "==============================================================================\n",
      "Dep. Variable:                  churn   No. Observations:                  406\n",
      "Model:                          Logit   Df Residuals:                      391\n",
      "Method:                           MLE   Df Model:                           14\n",
      "Date:                Fri, 26 Jun 2020   Pseudo R-squ.:                  0.4956\n",
      "Time:                        19:17:49   Log-Likelihood:                -141.94\n",
      "converged:                       True   LL-Null:                       -281.42\n",
      "                                        LLR p-value:                 2.852e-51\n",
      "===========================================================================================\n",
      "                              coef    std err          z      P>|z|      [0.025      0.975]\n",
      "-------------------------------------------------------------------------------------------\n",
      "high_income_state          -0.1912      0.151     -1.266      0.206      -0.487       0.105\n",
      "paid_verified              -0.2568      0.197     -1.305      0.192      -0.642       0.129\n",
      "log_first_month_2019-07     0.8892      0.367      2.421      0.015       0.169       1.609\n",
      "log_first_month_2019-08     0.7111      0.318      2.234      0.026       0.087       1.335\n",
      "log_first_month_2019-09     0.1964      0.258      0.761      0.447      -0.309       0.702\n",
      "log_first_month_2019-10     0.3219      0.234      1.377      0.169      -0.136       0.780\n",
      "log_first_month_2019-11     0.2215      0.194      1.140      0.254      -0.159       0.602\n",
      "num_student                -1.7982      0.453     -3.970      0.000      -2.686      -0.911\n",
      "num_device                 -0.9296      0.193     -4.816      0.000      -1.308      -0.551\n",
      "num_problem_teacher        -0.6568      0.685     -0.958      0.338      -2.000       0.686\n",
      "num_problem_student        -0.9275      0.422     -2.196      0.028      -1.755      -0.100\n",
      "log_days_monthly           -1.4171      0.340     -4.162      0.000      -2.084      -0.750\n",
      "log_freq_daily              0.3344      0.209      1.598      0.110      -0.076       0.744\n",
      "improvement                -0.1724      0.271     -0.635      0.525      -0.704       0.360\n",
      "ratio_work_session         -0.7384      0.242     -3.048      0.002      -1.213      -0.264\n",
      "===========================================================================================\n"
     ]
    }
   ],
   "source": [
    "#L1\n",
    "logit_model=sm.Logit(df_downsampled[y],df_downsampled[x])\n",
    "#result=logit_model.fit()\n",
    "result = logit_model.fit()\n",
    "print(result.summary())\n",
    "\n"
   ]
  },
  {
   "cell_type": "code",
   "execution_count": 876,
   "metadata": {},
   "outputs": [
    {
     "data": {
      "image/png": "[encoded data removed]",
      "text/plain": [
       "<matplotlib.figure.Figure at 0x1e845087c88>"
      ]
     },
     "metadata": {},
     "output_type": "display_data"
    }
   ],
   "source": [
    "### Visualize the importance of features\n",
    "label = ['num_student',\n",
    "        'log_days_monthly',\n",
    "        'num_problem_student',\n",
    "        'num_device',\n",
    "        'log_first_month_2019-07',\n",
    "        'log_first_month_2019-08',\n",
    "        'ratio_work_session'        ]\n",
    "par = [-1.7982,  -1.4171, -0.9275, -0.9296 ,   0.8892, 0.7111, -0.7384 ]\n",
    "#index = np.arange(len(label))\n",
    "plt.rcParams[\"axes.grid\"] = False\n",
    "def plot_bar_x(x, y, z):\n",
    "    # this is for plotting purpose\n",
    "    index = np.arange(len(x))\n",
    "    plt.barh(index, y, alpha =0.7, color = 'turquoise')\n",
    "    plt.xlabel('Parameters', fontsize=12)\n",
    "    plt.yticks(index, x, fontsize=12)\n",
    "    plt.title(z, fontsize = 15)\n",
    "    plt.show()\n",
    "plot_bar_x(label, par, 'Logistic Regression Features Parameters')"
   ]
  },
  {
   "cell_type": "code",
   "execution_count": 862,
   "metadata": {},
   "outputs": [
    {
     "name": "stdout",
     "output_type": "stream",
     "text": [
      "Accuracy: 0.833333333333\n",
      "Precision: 0.762711864407\n",
      "Recall: 0.9375\n"
     ]
    }
   ],
   "source": [
    "print(\"Accuracy:\",metrics.accuracy_score(y_test, y_pred))\n",
    "print(\"Precision:\",metrics.precision_score(y_test, y_pred))\n",
    "print(\"Recall:\",metrics.recall_score(y_test, y_pred))"
   ]
  },
  {
   "cell_type": "code",
   "execution_count": 863,
   "metadata": {},
   "outputs": [
    {
     "name": "stdout",
     "output_type": "stream",
     "text": [
      "             precision    recall  f1-score   support\n",
      "\n",
      "        0.0       0.93      0.74      0.82        54\n",
      "        1.0       0.76      0.94      0.84        48\n",
      "\n",
      "avg / total       0.85      0.83      0.83       102\n",
      "\n"
     ]
    }
   ],
   "source": [
    "# Report the model performance\n",
    "from sklearn.metrics import classification_report\n",
    "print(classification_report(y_test, y_pred))"
   ]
  },
  {
   "cell_type": "markdown",
   "metadata": {},
   "source": [
    "### Fit Random Forest Model"
   ]
  },
  {
   "cell_type": "code",
   "execution_count": 870,
   "metadata": {},
   "outputs": [
    {
     "data": {
      "text/plain": [
       "RandomForestClassifier(bootstrap=True, class_weight=None, criterion='gini',\n",
       "            max_depth=None, max_features='sqrt', max_leaf_nodes=None,\n",
       "            min_impurity_decrease=0.0, min_impurity_split=None,\n",
       "            min_samples_leaf=1, min_samples_split=2,\n",
       "            min_weight_fraction_leaf=0.0, n_estimators=500, n_jobs=1,\n",
       "            oob_score=False, random_state=None, verbose=0,\n",
       "            warm_start=False)"
      ]
     },
     "execution_count": 870,
     "metadata": {},
     "output_type": "execute_result"
    }
   ],
   "source": [
    "# Random forest\n",
    "from sklearn.ensemble import RandomForestClassifier\n",
    "# Create the model with 100 trees\n",
    "model = RandomForestClassifier(n_estimators=500, \n",
    "                               bootstrap = True,\n",
    "                               max_features = 'sqrt')\n",
    "# Fit on training data\n",
    "model.fit(X_train, y_train)"
   ]
  },
  {
   "cell_type": "code",
   "execution_count": 871,
   "metadata": {},
   "outputs": [
    {
     "name": "stdout",
     "output_type": "stream",
     "text": [
      "             precision    recall  f1-score   support\n",
      "\n",
      "        0.0       0.63      0.83      0.72        54\n",
      "        1.0       0.71      0.46      0.56        48\n",
      "\n",
      "avg / total       0.67      0.66      0.64       102\n",
      "\n"
     ]
    }
   ],
   "source": [
    "# Actual class predictions\n",
    "rf_predictions = model.predict(X_test_scaled)\n",
    "print(classification_report(y_test, rf_predictions))"
   ]
  },
  {
   "cell_type": "code",
   "execution_count": null,
   "metadata": {
    "collapsed": true
   },
   "outputs": [],
   "source": []
  },
  {
   "cell_type": "markdown",
   "metadata": {},
   "source": [
    "### Feature Importance"
   ]
  },
  {
   "cell_type": "code",
   "execution_count": 867,
   "metadata": {},
   "outputs": [
    {
     "data": {
      "text/html": [
       "<div>\n",
       "<style>\n",
       "    .dataframe thead tr:only-child th {\n",
       "        text-align: right;\n",
       "    }\n",
       "\n",
       "    .dataframe thead th {\n",
       "        text-align: left;\n",
       "    }\n",
       "\n",
       "    .dataframe tbody tr th {\n",
       "        vertical-align: top;\n",
       "    }\n",
       "</style>\n",
       "<table border=\"1\" class=\"dataframe\">\n",
       "  <thead>\n",
       "    <tr style=\"text-align: right;\">\n",
       "      <th></th>\n",
       "      <th>feature</th>\n",
       "      <th>importance</th>\n",
       "    </tr>\n",
       "  </thead>\n",
       "  <tbody>\n",
       "    <tr>\n",
       "      <th>11</th>\n",
       "      <td>log_days_monthly</td>\n",
       "      <td>0.380421</td>\n",
       "    </tr>\n",
       "    <tr>\n",
       "      <th>7</th>\n",
       "      <td>num_student</td>\n",
       "      <td>0.183079</td>\n",
       "    </tr>\n",
       "    <tr>\n",
       "      <th>10</th>\n",
       "      <td>num_problem_student</td>\n",
       "      <td>0.105683</td>\n",
       "    </tr>\n",
       "    <tr>\n",
       "      <th>8</th>\n",
       "      <td>num_device</td>\n",
       "      <td>0.094530</td>\n",
       "    </tr>\n",
       "    <tr>\n",
       "      <th>12</th>\n",
       "      <td>log_freq_daily</td>\n",
       "      <td>0.056354</td>\n",
       "    </tr>\n",
       "    <tr>\n",
       "      <th>9</th>\n",
       "      <td>num_problem_teacher</td>\n",
       "      <td>0.040838</td>\n",
       "    </tr>\n",
       "    <tr>\n",
       "      <th>1</th>\n",
       "      <td>paid_verified</td>\n",
       "      <td>0.030500</td>\n",
       "    </tr>\n",
       "    <tr>\n",
       "      <th>14</th>\n",
       "      <td>ratio_work_session</td>\n",
       "      <td>0.026267</td>\n",
       "    </tr>\n",
       "    <tr>\n",
       "      <th>13</th>\n",
       "      <td>improvement</td>\n",
       "      <td>0.023237</td>\n",
       "    </tr>\n",
       "    <tr>\n",
       "      <th>0</th>\n",
       "      <td>high_income_state</td>\n",
       "      <td>0.018100</td>\n",
       "    </tr>\n",
       "  </tbody>\n",
       "</table>\n",
       "</div>"
      ],
      "text/plain": [
       "                feature  importance\n",
       "11     log_days_monthly    0.380421\n",
       "7           num_student    0.183079\n",
       "10  num_problem_student    0.105683\n",
       "8            num_device    0.094530\n",
       "12       log_freq_daily    0.056354\n",
       "9   num_problem_teacher    0.040838\n",
       "1         paid_verified    0.030500\n",
       "14   ratio_work_session    0.026267\n",
       "13          improvement    0.023237\n",
       "0     high_income_state    0.018100"
      ]
     },
     "execution_count": 867,
     "metadata": {},
     "output_type": "execute_result"
    }
   ],
   "source": [
    "import pandas as pd\n",
    "\n",
    "# Extract feature importances\n",
    "fi = pd.DataFrame({'feature': list(df[x].columns),\n",
    "                   'importance': model.feature_importances_}).\\\n",
    "                    sort_values('importance', ascending = False)\n",
    "\n",
    "# Display\n",
    "fi.head(10)"
   ]
  },
  {
   "cell_type": "code",
   "execution_count": 868,
   "metadata": {},
   "outputs": [
    {
     "data": {
      "image/png": "[encoded data removed]",
      "text/plain": [
       "<matplotlib.figure.Figure at 0x1e844eec978>"
      ]
     },
     "metadata": {},
     "output_type": "display_data"
    }
   ],
   "source": [
    "feature = ['log_days_monthly', 'num_student', 'num_problem_student', 'num_device', 'log_freq_daily', 'num_problem_teacher', 'paid_verified', 'ratio_work_session']\n",
    "\n",
    "par = [0.380421,0.183079, 0.105683, 0.094530, 0.056354, 0.040838, 0.030500, 0.026267 ]\n",
    "\n",
    "plot_bar_x(feature, par, 'Random Forest Feature Importance')\n",
    "#fi.iloc[:,0].tolist()"
   ]
  },
  {
   "cell_type": "code",
   "execution_count": 872,
   "metadata": {},
   "outputs": [
    {
     "name": "stdout",
     "output_type": "stream",
     "text": [
      "Confustion Matrix without Normalization\n",
      "[[45  9]\n",
      " [26 22]]\n"
     ]
    },
    {
     "data": {
      "text/plain": [
       "<matplotlib.axes._subplots.AxesSubplot at 0x1e844f6c2b0>"
      ]
     },
     "execution_count": 872,
     "metadata": {},
     "output_type": "execute_result"
    },
    {
     "data": {
      "image/png": "[encoded data removed]",
      "text/plain": [
       "<matplotlib.figure.Figure at 0x1e844e0d5f8>"
      ]
     },
     "metadata": {},
     "output_type": "display_data"
    }
   ],
   "source": [
    "plot_confusion_matrix(y_test,rf_predictions)"
   ]
  },
  {
   "cell_type": "code",
   "execution_count": 869,
   "metadata": {},
   "outputs": [
    {
     "name": "stdout",
     "output_type": "stream",
     "text": [
      "             precision    recall  f1-score   support\n",
      "\n",
      "        0.0       0.63      0.83      0.72        54\n",
      "        1.0       0.71      0.46      0.56        48\n",
      "\n",
      "avg / total       0.67      0.66      0.64       102\n",
      "\n"
     ]
    }
   ],
   "source": [
    "from sklearn.metrics import classification_report\n",
    "print(classification_report(y_test, rf_predictions))"
   ]
  },
  {
   "cell_type": "code",
   "execution_count": null,
   "metadata": {
    "collapsed": true
   },
   "outputs": [],
   "source": []
  }
 ],
 "metadata": {
  "kernelspec": {
   "display_name": "Python 3",
   "language": "python",
   "name": "python3"
  },
  "language_info": {
   "codemirror_mode": {
    "name": "ipython",
    "version": 3
   },
   "file_extension": ".py",
   "mimetype": "text/x-python",
   "name": "python",
   "nbconvert_exporter": "python",
   "pygments_lexer": "ipython3",
   "version": "3.6.3"
  }
 },
 "nbformat": 4,
 "nbformat_minor": 2
}
